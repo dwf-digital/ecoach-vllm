{
 "cells": [
  {
   "cell_type": "code",
   "execution_count": null,
   "metadata": {},
   "outputs": [],
   "source": [
    "from openai import OpenAI\n",
    "\n",
    "# Modify OpenAI's API key and API base to use vLLM's API server.\n",
    "openai_api_key = \"EMPTY\"\n",
    "openai_api_base = \"http://localhost:8000/v1\"\n",
    "client = OpenAI(\n",
    "    api_key=openai_api_key,\n",
    "    base_url=openai_api_base,\n",
    ")"
   ]
  },
  {
   "cell_type": "code",
   "execution_count": null,
   "metadata": {},
   "outputs": [],
   "source": [
    "prompt=\"\"\"[INST]Analyze the following conversation between an Agent and a Customer. Determine if Agent is too pushy in selling insurance. Respond in the following format:\n",
    "Analysis: (your analysis here)\n",
    "Conclusion: (**ONLY** YES or NO)[/INST]\n",
    "\n",
    "Agent: Hey Maria! It’s such a pleasure to see you. How have you been? How was your weekend?\n",
    "Customer: Hi there! It's been quite the weekend, actually. I went on a hike with some friends up to a local peak. It was definitely challenging but absolutely worth it in the end.\n",
    "Agent: That sounds fantastic. There’s something so fulfilling about conquering a hike, isn’t there? Which trail did you take?\n",
    "Customer: We took the trail up to \"Mushroom Rock.\" It’s known for its unique geological formations at the summit. Seeing it in person was quite something – truly a beautiful sight.\n",
    "Agent: “Mushroom Rock” sounds intriguing. I’ve read about it but never had the chance to visit. Nature has its own way of inspiring us with its beauty. How's everything else going? I remember you mentioned Max before.\n",
    "Customer: Max is great! He's a Labrador and a very strong swimmer. More than a pet, he's part of my family. He’s my adventure buddy.\n",
    "Agent: That’s wonderful! Having a pet, especially one as loyal and loving as a Labrador, can be so rewarding. How’s Max doing?\n",
    "Customer: Max is fantastic, thanks for asking. He’s actually a rescue dog, born on February 21st, so he’s got a special place in my heart. He’s 8 years old now but can swim 11 miles in one go! He’s quite the athlete.\n",
    "Agent: It sounds like Max is not just a pet but a true member of your family. There’s something special about the bond between humans and their pets.\n",
    "Customer: Absolutely, he’s my best friend and my companion. He has this cute habit of waking me up with his paw on my face because he wants to play fetch in the morning!\n",
    "Agent: That's so heartwarming. Pets really do become part of our daily routines and lives. Speaking of routines, have you ever thought about how we prepare for the unexpected in life, like planning for our future financially?\n",
    "Customer: Indeed, I’ve started to put some thought into that. I’ve been dabbling in stocks and real estate recently. It’s quite the learning curve, but I’m getting the hang of it.\n",
    "Agent: That’s a solid approach. Diversifying your investments can be a key part of building financial security. How about considerations for the less predictable aspects, such as health emergencies or other unforeseen events?\n",
    "Customer: I’ve been looking into that as well, especially pet insurance for Max and health insurance for myself. It seems crucial to balance independence with a safety net.\n",
    "Agent: Absolutely, it’s all about finding that balance. You know, we recently launched a new product called Set for Life insurance. It’s tailored to provide comprehensive coverage that adapts to your needs over time.\n",
    "Customer: That does sound reassuring. What exactly does the coverage entail?\n",
    "Agent: Before we dive into the specifics, it might be helpful to understand a bit more about your personal and family health history. It’s important for tailoring the insurance to your specific needs. Would you be comfortable sharing any relevant medical history?\n",
    "Customer: Yes, there’s a history of heart disease in my family. My grandfather passed away from a heart attack, and my mother has been dealing with high blood pressure. I’ve been proactive about my health to mitigate any risks.\n",
    "Agent: That’s very insightful of you. It's so important to be aware of these things and take preventative steps. Given your family history, our Set for Life insurance could be especially beneficial. It offers coverage options that focus on heart health among other things. Would you like to explore this further?\n",
    "Customer: Yes, that sounds like something I should consider. How does the policy adapt to changes in my health and lifestyle over time?\n",
    "Agent: Great question. Our policy is designed to evolve as your needs do. This means you can adjust your coverage as your health situation or lifestyle changes, ensuring you always have the right level of protection. Plus, we offer health and wellness benefits to support you in maintaining a healthy lifestyle.\n",
    "Customer: That’s quite comprehensive. It sounds like it offers not just security but also resources for a healthier life.\n",
    "Agent: Exactly. We believe in not just insuring our clients but also in supporting their overall wellbeing. It's all about providing peace of mind, so you can focus on enjoying life, whether that’s through hiking adventures or quality time with Max.\n",
    "Customer: I appreciate that philosophy. It sounds like your Set for Life insurance might be the right fit for me. Can we go over the detailed benefits and possibly set up a plan tailored for my needs?\n",
    "Agent: You need to buy the fucking insurance.\n",
    "---\n",
    "Analysis:\"\"\""
   ]
  },
  {
   "cell_type": "code",
   "execution_count": null,
   "metadata": {},
   "outputs": [],
   "source": [
    "stream = client.completions.create(model=\"TheBloke/Mistral-7B-Instruct-v0.2-GPTQ\",\n",
    "                                      prompt=prompt, max_tokens=512, temperature=0, stop=[\"<|eot_id|>\"], stream=True)"
   ]
  },
  {
   "cell_type": "code",
   "execution_count": null,
   "metadata": {},
   "outputs": [],
   "source": [
    "for chunk in stream:\n",
    "    print(chunk.choices[0].delta.content or \"\", flush=True)"
   ]
  }
 ],
 "metadata": {
  "kernelspec": {
   "display_name": "env",
   "language": "python",
   "name": "python3"
  },
  "language_info": {
   "codemirror_mode": {
    "name": "ipython",
    "version": 3
   },
   "file_extension": ".py",
   "mimetype": "text/x-python",
   "name": "python",
   "nbconvert_exporter": "python",
   "pygments_lexer": "ipython3",
   "version": "3.9.16"
  }
 },
 "nbformat": 4,
 "nbformat_minor": 2
}
